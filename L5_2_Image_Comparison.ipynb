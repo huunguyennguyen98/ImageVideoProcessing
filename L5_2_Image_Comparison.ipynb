{
  "nbformat": 4,
  "nbformat_minor": 0,
  "metadata": {
    "colab": {
      "provenance": [],
      "authorship_tag": "ABX9TyMcuhRX56SBxKGG1TJ8qt62",
      "include_colab_link": true
    },
    "kernelspec": {
      "name": "python3",
      "display_name": "Python 3"
    },
    "language_info": {
      "name": "python"
    }
  },
  "cells": [
    {
      "cell_type": "markdown",
      "metadata": {
        "id": "view-in-github",
        "colab_type": "text"
      },
      "source": [
        "<a href=\"https://colab.research.google.com/github/huunguyennguyen98/ImageVideoProcessing/blob/main/L5_2_Image_Comparison.ipynb\" target=\"_parent\"><img src=\"https://colab.research.google.com/assets/colab-badge.svg\" alt=\"Open In Colab\"/></a>"
      ]
    },
    {
      "cell_type": "code",
      "source": [
        "!pip uninstall gdown -y && pip install gdown\n",
        "!mkdir picture\n",
        "!gdown --folder https://drive.google.com/drive/folders/1sqBKgTmVhYRBXX4MPmwRywA5kd5DJ1IZ?usp=share_link -O /content/picture"
      ],
      "metadata": {
        "id": "2qHp9pqsLxQc"
      },
      "execution_count": null,
      "outputs": []
    },
    {
      "cell_type": "code",
      "execution_count": 37,
      "metadata": {
        "id": "BWH5MeE83Du6"
      },
      "outputs": [],
      "source": [
        "import cv2\n",
        "import numpy as np\n",
        "from google.colab.patches import cv2_imshow"
      ]
    },
    {
      "cell_type": "code",
      "source": [
        "#Load test images\n",
        "maskImg1 = cv2.imread('/content/picture/mask1.png')\n",
        "maskImg2 = cv2.imread('/content/picture/mask2.png')"
      ],
      "metadata": {
        "id": "yE60ZYXd3SBG"
      },
      "execution_count": 41,
      "outputs": []
    },
    {
      "cell_type": "code",
      "source": [
        "# Perform image subtraction and comparison\n",
        "diffImg = cv2.absdiff(maskImg1, maskImg2)\n",
        "cv2_imshow(diffImg)"
      ],
      "metadata": {
        "id": "Xvksnq745BYd"
      },
      "execution_count": null,
      "outputs": []
    }
  ]
}