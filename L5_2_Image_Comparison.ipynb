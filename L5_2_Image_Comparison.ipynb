{
  "nbformat": 4,
  "nbformat_minor": 0,
  "metadata": {
    "colab": {
      "provenance": [],
      "authorship_tag": "ABX9TyOxZNrgnDxXwlDT/o8BYYBk",
      "include_colab_link": true
    },
    "kernelspec": {
      "name": "python3",
      "display_name": "Python 3"
    },
    "language_info": {
      "name": "python"
    }
  },
  "cells": [
    {
      "cell_type": "markdown",
      "metadata": {
        "id": "view-in-github",
        "colab_type": "text"
      },
      "source": [
        "<a href=\"https://colab.research.google.com/github/huunguyennguyen98/ImageVideoProcessing/blob/main/L5_2_Image_Comparison.ipynb\" target=\"_parent\"><img src=\"https://colab.research.google.com/assets/colab-badge.svg\" alt=\"Open In Colab\"/></a>"
      ]
    },
    {
      "cell_type": "code",
      "source": [
        "!pip uninstall gdown -y && pip install gdown\n",
        "!mkdir picture\n",
        "!gdown --folder https://drive.google.com/drive/folders/1sqBKgTmVhYRBXX4MPmwRywA5kd5DJ1IZ?usp=share_link -O /content/picture"
      ],
      "metadata": {
        "id": "2qHp9pqsLxQc"
      },
      "execution_count": null,
      "outputs": []
    },
    {
      "cell_type": "code",
      "execution_count": 44,
      "metadata": {
        "id": "BWH5MeE83Du6"
      },
      "outputs": [],
      "source": [
        "import cv2\n",
        "import numpy as np\n",
        "from google.colab.patches import cv2_imshow"
      ]
    },
    {
      "cell_type": "code",
      "source": [
        "#Load test images\n",
        "maskImg1 = cv2.imread('/content/picture/mask1.png')\n",
        "maskImg2 = cv2.imread('/content/picture/mask2.png')"
      ],
      "metadata": {
        "id": "yE60ZYXd3SBG"
      },
      "execution_count": 45,
      "outputs": []
    },
    {
      "cell_type": "code",
      "source": [
        "# Perform image subtraction and comparison\n",
        "diffImg = cv2.absdiff(maskImg1, maskImg2)\n",
        "cv2_imshow(diffImg)"
      ],
      "metadata": {
        "id": "Xvksnq745BYd",
        "colab": {
          "base_uri": "https://localhost:8080/",
          "height": 529
        },
        "outputId": "6fb9c006-aac5-4fbc-c7ef-7d32b71210e1"
      },
      "execution_count": 46,
      "outputs": [
        {
          "output_type": "display_data",
          "data": {
            "text/plain": [
              "<PIL.Image.Image image mode=RGB size=512x512 at 0x7F6F4CFFE3A0>"
            ],
            "image/png": "[encoded data removed]"
          },
          "metadata": {}
        }
      ]
    },
    {
      "cell_type": "code",
      "source": [
        "# Write image\n",
        "cv2.imwrite('Mask_Compasion_diff.png', diffImg)"
      ],
      "metadata": {
        "colab": {
          "base_uri": "https://localhost:8080/"
        },
        "id": "1VLdbR9sQVse",
        "outputId": "31567936-a190-4f45-cc15-3cbb60c741f6"
      },
      "execution_count": 47,
      "outputs": [
        {
          "output_type": "execute_result",
          "data": {
            "text/plain": [
              "True"
            ]
          },
          "metadata": {},
          "execution_count": 47
        }
      ]
    }
  ]
}