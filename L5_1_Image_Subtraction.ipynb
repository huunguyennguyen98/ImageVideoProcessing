{
  "nbformat": 4,
  "nbformat_minor": 0,
  "metadata": {
    "colab": {
      "provenance": [],
      "authorship_tag": "ABX9TyO+Re6v4bdq6Xi/7cnUEti5",
      "include_colab_link": true
    },
    "kernelspec": {
      "name": "python3",
      "display_name": "Python 3"
    },
    "language_info": {
      "name": "python"
    }
  },
  "cells": [
    {
      "cell_type": "markdown",
      "metadata": {
        "id": "view-in-github",
        "colab_type": "text"
      },
      "source": [
        "<a href=\"https://colab.research.google.com/github/huunguyennguyen98/ImageVideoProcessing/blob/main/L5_1_Image_Subtraction.ipynb\" target=\"_parent\"><img src=\"https://colab.research.google.com/assets/colab-badge.svg\" alt=\"Open In Colab\"/></a>"
      ]
    },
    {
      "cell_type": "code",
      "source": [
        "!pip uninstall gdown -y && pip install gdown\n",
        "!mkdir picture\n",
        "!gdown --folder https://drive.google.com/drive/folders/1sqBKgTmVhYRBXX4MPmwRywA5kd5DJ1IZ?usp=share_link -O /content/picture"
      ],
      "metadata": {
        "id": "xaapxMfuRDeL"
      },
      "execution_count": null,
      "outputs": []
    },
    {
      "cell_type": "code",
      "execution_count": 21,
      "metadata": {
        "id": "wrQqmy61hr0i"
      },
      "outputs": [],
      "source": [
        "import cv2\n",
        "import numpy as np\n",
        "from google.colab.patches import cv2_imshow"
      ]
    },
    {
      "cell_type": "code",
      "source": [
        "# Load test images\n",
        "liveImg = cv2.imread('/content/picture/live.jpg')\n",
        "maskImg = cv2.imread('/content/picture/mask.jpg')"
      ],
      "metadata": {
        "id": "TXPbrKi7RVpi"
      },
      "execution_count": 22,
      "outputs": []
    },
    {
      "cell_type": "code",
      "source": [
        "# Calculate the difference between two images\n",
        "diffImg = cv2.absdiff(maskImg, liveImg)\n",
        "gamma = 2.0\n",
        "diffImg_contrasted = diffImg * gamma"
      ],
      "metadata": {
        "id": "3WlWnSlwRhXj"
      },
      "execution_count": 23,
      "outputs": []
    },
    {
      "cell_type": "code",
      "source": [
        "# Show images\n",
        "# Original Image\n",
        "print('Original Image')\n",
        "cv2_imshow(liveImg)\n",
        "# Mask Image\n",
        "print('Mask Image')\n",
        "cv2_imshow(maskImg)\n",
        "# Difference Image\n",
        "print('Difference Image')\n",
        "cv2_imshow(diffImg)\n",
        "# Difference Image increased contrast\n",
        "print('Difference Image increased contrast')\n",
        "cv2_imshow(diffImg_contrasted)"
      ],
      "metadata": {
        "id": "aAvC0OhTSVQD"
      },
      "execution_count": null,
      "outputs": []
    },
    {
      "cell_type": "code",
      "source": [
        "# Save images\n",
        "cv2.imwrite('Image_Subtraction.jpg', diffImg)\n",
        "cv2.imwrite('Image_Subtraction_with_contrast.jpg',diffImg_contrasted)"
      ],
      "metadata": {
        "id": "BdWXhKZxVLYi"
      },
      "execution_count": null,
      "outputs": []
    }
  ]
}