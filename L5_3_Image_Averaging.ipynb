{
  "nbformat": 4,
  "nbformat_minor": 0,
  "metadata": {
    "colab": {
      "provenance": [],
      "authorship_tag": "ABX9TyNgehRmmSmpB0eizRB+fIE1",
      "include_colab_link": true
    },
    "kernelspec": {
      "name": "python3",
      "display_name": "Python 3"
    },
    "language_info": {
      "name": "python"
    }
  },
  "cells": [
    {
      "cell_type": "markdown",
      "metadata": {
        "id": "view-in-github",
        "colab_type": "text"
      },
      "source": [
        "<a href=\"https://colab.research.google.com/github/huunguyennguyen98/ImageVideoProcessing/blob/main/L5_3_Image_Averaging.ipynb\" target=\"_parent\"><img src=\"https://colab.research.google.com/assets/colab-badge.svg\" alt=\"Open In Colab\"/></a>"
      ]
    },
    {
      "cell_type": "code",
      "execution_count": null,
      "metadata": {
        "id": "LeUDqwQeAZhJ"
      },
      "outputs": [],
      "source": [
        "!pip uninstall gdown -y && pip install gdown\n",
        "!mkdir picture\n",
        "!gdown --folder https://drive.google.com/drive/folders/1sqBKgTmVhYRBXX4MPmwRywA5kd5DJ1IZ?usp=share_link -O /content/picture"
      ]
    },
    {
      "cell_type": "code",
      "source": [
        "import cv2\n",
        "import skimage\n",
        "import numpy as np\n",
        "import matplotlib.pyplot as plt\n",
        "from google.colab.patches import cv2_imshow"
      ],
      "metadata": {
        "id": "GkmywNIMV_br"
      },
      "execution_count": 39,
      "outputs": []
    },
    {
      "cell_type": "code",
      "source": [
        "# Load test images\n",
        "Img = cv2.cvtColor(cv2.imread('/content/picture/quadnight.jfif'), cv2.COLOR_BGR2GRAY)"
      ],
      "metadata": {
        "id": "dPyWKWBfWBXS"
      },
      "execution_count": 40,
      "outputs": []
    },
    {
      "cell_type": "code",
      "source": [
        "nArray = [1,2,8,16,32,64]"
      ],
      "metadata": {
        "id": "vcf4jtg3Xl-L"
      },
      "execution_count": 41,
      "outputs": []
    },
    {
      "cell_type": "code",
      "source": [
        "# Repeat over number of sample images\n",
        "for i in range(len(nArray)):\n",
        "  N = nArray[i]\n",
        "  avgImg = np.zeros(shape=[768,1024], dtype=np.uint8) # Initialize an empty image\n",
        "  # Add Gaussian noise to each image, accumulate this image to average image\n",
        "  for j in range(N):\n",
        "    noisyImg = skimage.util.random_noise(Img, mode='gaussian', seed=None, clip=True)\n",
        "    avgImg = avgImg + noisyImg"
      ],
      "metadata": {
        "id": "on1oX7xXaOrq"
      },
      "execution_count": 42,
      "outputs": []
    },
    {
      "cell_type": "code",
      "source": [
        "# Show image\n",
        "avgImg = avgImg / N\n",
        "plt.subplot(2,len(nArray),i)\n",
        "cv2_imshow(avgImg)"
      ],
      "metadata": {
        "id": "Oc5VKN1PfspB"
      },
      "execution_count": null,
      "outputs": []
    }
  ]
}